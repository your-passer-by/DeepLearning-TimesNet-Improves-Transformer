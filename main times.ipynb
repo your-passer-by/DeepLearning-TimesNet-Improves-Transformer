{
 "cells": [
  {
   "cell_type": "code",
   "execution_count": 34,
   "metadata": {},
   "outputs": [],
   "source": [
    "import matplotlib.pyplot as plt\n",
    "import numpy as np\n",
    "import pandas as pd\n",
    "import torch\n",
    "import torch.optim as optim\n",
    "import torch.nn as nn\n",
    "from sklearn.preprocessing import StandardScaler, MinMaxScaler\n",
    "from torch.utils.data import TensorDataset\n",
    "from tqdm import tqdm"
   ]
  },
  {
   "cell_type": "code",
   "execution_count": 35,
   "metadata": {},
   "outputs": [],
   "source": [
    "# 定义模型\n",
    "SEQ_LENGTH = 100 # 序列长度\n",
    "BATCH_SIZE = 32 # 批大小\n",
    "FEATURE_SIZE = 7 # 特征数量\n",
    "N_BLOCK = 2 # 堆叠的块数量\n",
    "HIDDEN_SIZE = 32 # 隐藏层大小\n",
    "DROUPOUT = 0.1 # dropout比例\n",
    "LEARNING_RATE = 0.001 # 学习率\n",
    "N_HEAD = 2 # 多头注意力机制的头数量\n",
    "EMBED_SIZE = 32 # 词嵌入大小\n",
    "TARGET_SIZE = 1 # 目标大小\n",
    "EPOCH = 20 # 训练轮数"
   ]
  },
  {
   "cell_type": "code",
   "execution_count": 36,
   "metadata": {},
   "outputs": [
    {
     "name": "stdout",
     "output_type": "stream",
     "text": [
      "                  date   HUFL   HULL   MUFL   MULL   LUFL   LULL         OT\n",
      "0  2016-07-01 00:00:00  5.827  2.009  1.599  0.462  4.203  1.340  30.531000\n",
      "1  2016-07-01 01:00:00  5.693  2.076  1.492  0.426  4.142  1.371  27.787001\n",
      "2  2016-07-01 02:00:00  5.157  1.741  1.279  0.355  3.777  1.218  27.787001\n",
      "3  2016-07-01 03:00:00  5.090  1.942  1.279  0.391  3.807  1.279  25.044001\n",
      "4  2016-07-01 04:00:00  5.358  1.942  1.492  0.462  3.868  1.279  21.948000\n",
      "    HUFL   HULL   MUFL   MULL   LUFL   LULL         OT\n",
      "0  5.827  2.009  1.599  0.462  4.203  1.340  30.531000\n",
      "1  5.693  2.076  1.492  0.426  4.142  1.371  27.787001\n",
      "2  5.157  1.741  1.279  0.355  3.777  1.218  27.787001\n",
      "3  5.090  1.942  1.279  0.391  3.807  1.279  25.044001\n",
      "4  5.358  1.942  1.492  0.462  3.868  1.279  21.948000\n"
     ]
    },
    {
     "data": {
      "text/html": [
       "<div>\n",
       "<style scoped>\n",
       "    .dataframe tbody tr th:only-of-type {\n",
       "        vertical-align: middle;\n",
       "    }\n",
       "\n",
       "    .dataframe tbody tr th {\n",
       "        vertical-align: top;\n",
       "    }\n",
       "\n",
       "    .dataframe thead th {\n",
       "        text-align: right;\n",
       "    }\n",
       "</style>\n",
       "<table border=\"1\" class=\"dataframe\">\n",
       "  <thead>\n",
       "    <tr style=\"text-align: right;\">\n",
       "      <th></th>\n",
       "      <th>HUFL</th>\n",
       "      <th>HULL</th>\n",
       "      <th>MUFL</th>\n",
       "      <th>MULL</th>\n",
       "      <th>LUFL</th>\n",
       "      <th>LULL</th>\n",
       "      <th>OT</th>\n",
       "    </tr>\n",
       "  </thead>\n",
       "  <tbody>\n",
       "    <tr>\n",
       "      <th>0</th>\n",
       "      <td>5.827</td>\n",
       "      <td>2.009</td>\n",
       "      <td>1.599</td>\n",
       "      <td>0.462</td>\n",
       "      <td>4.203</td>\n",
       "      <td>1.340</td>\n",
       "      <td>30.531000</td>\n",
       "    </tr>\n",
       "    <tr>\n",
       "      <th>1</th>\n",
       "      <td>5.693</td>\n",
       "      <td>2.076</td>\n",
       "      <td>1.492</td>\n",
       "      <td>0.426</td>\n",
       "      <td>4.142</td>\n",
       "      <td>1.371</td>\n",
       "      <td>27.787001</td>\n",
       "    </tr>\n",
       "    <tr>\n",
       "      <th>2</th>\n",
       "      <td>5.157</td>\n",
       "      <td>1.741</td>\n",
       "      <td>1.279</td>\n",
       "      <td>0.355</td>\n",
       "      <td>3.777</td>\n",
       "      <td>1.218</td>\n",
       "      <td>27.787001</td>\n",
       "    </tr>\n",
       "    <tr>\n",
       "      <th>3</th>\n",
       "      <td>5.090</td>\n",
       "      <td>1.942</td>\n",
       "      <td>1.279</td>\n",
       "      <td>0.391</td>\n",
       "      <td>3.807</td>\n",
       "      <td>1.279</td>\n",
       "      <td>25.044001</td>\n",
       "    </tr>\n",
       "    <tr>\n",
       "      <th>4</th>\n",
       "      <td>5.358</td>\n",
       "      <td>1.942</td>\n",
       "      <td>1.492</td>\n",
       "      <td>0.462</td>\n",
       "      <td>3.868</td>\n",
       "      <td>1.279</td>\n",
       "      <td>21.948000</td>\n",
       "    </tr>\n",
       "    <tr>\n",
       "      <th>...</th>\n",
       "      <td>...</td>\n",
       "      <td>...</td>\n",
       "      <td>...</td>\n",
       "      <td>...</td>\n",
       "      <td>...</td>\n",
       "      <td>...</td>\n",
       "      <td>...</td>\n",
       "    </tr>\n",
       "    <tr>\n",
       "      <th>17415</th>\n",
       "      <td>-1.674</td>\n",
       "      <td>3.550</td>\n",
       "      <td>-5.615</td>\n",
       "      <td>2.132</td>\n",
       "      <td>3.472</td>\n",
       "      <td>1.523</td>\n",
       "      <td>10.904000</td>\n",
       "    </tr>\n",
       "    <tr>\n",
       "      <th>17416</th>\n",
       "      <td>-5.492</td>\n",
       "      <td>4.287</td>\n",
       "      <td>-9.132</td>\n",
       "      <td>2.274</td>\n",
       "      <td>3.533</td>\n",
       "      <td>1.675</td>\n",
       "      <td>11.044000</td>\n",
       "    </tr>\n",
       "    <tr>\n",
       "      <th>17417</th>\n",
       "      <td>2.813</td>\n",
       "      <td>3.818</td>\n",
       "      <td>-0.817</td>\n",
       "      <td>2.097</td>\n",
       "      <td>3.716</td>\n",
       "      <td>1.523</td>\n",
       "      <td>10.271000</td>\n",
       "    </tr>\n",
       "    <tr>\n",
       "      <th>17418</th>\n",
       "      <td>9.243</td>\n",
       "      <td>3.818</td>\n",
       "      <td>5.472</td>\n",
       "      <td>2.097</td>\n",
       "      <td>3.655</td>\n",
       "      <td>1.432</td>\n",
       "      <td>9.778000</td>\n",
       "    </tr>\n",
       "    <tr>\n",
       "      <th>17419</th>\n",
       "      <td>10.114</td>\n",
       "      <td>3.550</td>\n",
       "      <td>6.183</td>\n",
       "      <td>1.564</td>\n",
       "      <td>3.716</td>\n",
       "      <td>1.462</td>\n",
       "      <td>9.567000</td>\n",
       "    </tr>\n",
       "  </tbody>\n",
       "</table>\n",
       "<p>17420 rows × 7 columns</p>\n",
       "</div>"
      ],
      "text/plain": [
       "         HUFL   HULL   MUFL   MULL   LUFL   LULL         OT\n",
       "0       5.827  2.009  1.599  0.462  4.203  1.340  30.531000\n",
       "1       5.693  2.076  1.492  0.426  4.142  1.371  27.787001\n",
       "2       5.157  1.741  1.279  0.355  3.777  1.218  27.787001\n",
       "3       5.090  1.942  1.279  0.391  3.807  1.279  25.044001\n",
       "4       5.358  1.942  1.492  0.462  3.868  1.279  21.948000\n",
       "...       ...    ...    ...    ...    ...    ...        ...\n",
       "17415  -1.674  3.550 -5.615  2.132  3.472  1.523  10.904000\n",
       "17416  -5.492  4.287 -9.132  2.274  3.533  1.675  11.044000\n",
       "17417   2.813  3.818 -0.817  2.097  3.716  1.523  10.271000\n",
       "17418   9.243  3.818  5.472  2.097  3.655  1.432   9.778000\n",
       "17419  10.114  3.550  6.183  1.564  3.716  1.462   9.567000\n",
       "\n",
       "[17420 rows x 7 columns]"
      ]
     },
     "execution_count": 36,
     "metadata": {},
     "output_type": "execute_result"
    }
   ],
   "source": [
    "# 加载数据\n",
    "data = pd.read_csv('train/ETTh1.csv')\n",
    "print(data.head())\n",
    "data = data.drop(columns=['date'])\n",
    "print(data.head())\n",
    "data"
   ]
  },
  {
   "cell_type": "code",
   "execution_count": 37,
   "metadata": {},
   "outputs": [
    {
     "data": {
      "text/plain": [
       "(17420, 7)"
      ]
     },
     "execution_count": 37,
     "metadata": {},
     "output_type": "execute_result"
    }
   ],
   "source": [
    "# 数据标准化\n",
    "scaler = MinMaxScaler()\n",
    "data = scaler.fit_transform(data)\n",
    "data = pd.DataFrame(data)\n",
    "data.shape"
   ]
  },
  {
   "cell_type": "code",
   "execution_count": 38,
   "metadata": {},
   "outputs": [],
   "source": [
    "def split_data(data, seq_length, feature_size, target_size):\n",
    "    X = []\n",
    "    Y = []\n",
    "\n",
    "    for i in range(len(data) - seq_length - target_size + 1):\n",
    "        x = data.iloc[i:(i + seq_length), :].values\n",
    "        y = data.iloc[(i + seq_length):(i + seq_length + target_size), :].values\n",
    "        X.append(x)\n",
    "        Y.append(y)\n",
    "\n",
    "    dataX = np.array(X)\n",
    "    dataY = np.array(Y)\n",
    "\n",
    "    # 获取训练集大小\n",
    "    train_size = int(np.round(0.8 * dataX.shape[0]))\n",
    "\n",
    "    # 划分训练集和测试集\n",
    "    X_train = dataX[:train_size, :].reshape(-1, seq_length, feature_size)\n",
    "    Y_train = dataY[:train_size].reshape(-1, target_size, feature_size)\n",
    "\n",
    "    X_test = dataX[train_size:, :].reshape(-1, seq_length, feature_size)\n",
    "    Y_test = dataY[train_size:].reshape(-1, target_size, feature_size)\n",
    "\n",
    "    return X_train, Y_train, X_test, Y_test"
   ]
  },
  {
   "cell_type": "code",
   "execution_count": 39,
   "metadata": {},
   "outputs": [
    {
     "data": {
      "text/plain": [
       "torch.Size([13856, 100, 7])"
      ]
     },
     "execution_count": 39,
     "metadata": {},
     "output_type": "execute_result"
    }
   ],
   "source": [
    "# 获取训练集和测试集\n",
    "trainX, trainY, testX, testY = split_data(data, SEQ_LENGTH, FEATURE_SIZE, TARGET_SIZE)\n",
    "\n",
    "# 转换为张量\n",
    "trainX = torch.from_numpy(trainX).to(torch.float32)\n",
    "trainY = torch.from_numpy(trainY).to(torch.float32)\n",
    "\n",
    "testX = torch.from_numpy(testX).to(torch.float32)\n",
    "testY = torch.from_numpy(testY).to(torch.float32)\n",
    "\n",
    "trainX.shape"
   ]
  },
  {
   "cell_type": "code",
   "execution_count": 40,
   "metadata": {},
   "outputs": [],
   "source": [
    "# 形成训练数据集\n",
    "train_data = TensorDataset(trainX, trainY)\n",
    "test_data = TensorDataset(testX, testY)"
   ]
  },
  {
   "cell_type": "code",
   "execution_count": 41,
   "metadata": {},
   "outputs": [
    {
     "name": "stdout",
     "output_type": "stream",
     "text": [
      "torch.Size([32, 100, 7])\n",
      "torch.Size([32, 1, 7])\n"
     ]
    }
   ],
   "source": [
    "# 生成train_batch test_batch\n",
    "train_loader = torch.utils.data.DataLoader(dataset=train_data, batch_size=BATCH_SIZE, shuffle=True)\n",
    "test_loader = torch.utils.data.DataLoader(dataset=test_data, batch_size=BATCH_SIZE, shuffle=False)\n",
    "data = next(iter(train_loader))\n",
    "\n",
    "print(data[0].shape)\n",
    "print(data[1].shape)"
   ]
  },
  {
   "cell_type": "code",
   "execution_count": 42,
   "metadata": {},
   "outputs": [],
   "source": [
    "class InceptionBlock(nn.Module):\n",
    "    def __init__(self, in_channels):\n",
    "        super(InceptionBlock, self).__init__()\n",
    "        self.conv1 = nn.Conv2d(in_channels, in_channels, kernel_size=(1, 1))\n",
    "        self.conv3 = nn.Conv2d(in_channels, in_channels, kernel_size=(3, 3), padding=(1, 1))\n",
    "        self.conv5 = nn.Conv2d(in_channels, in_channels, kernel_size=(5, 5), padding=(2, 2))\n",
    "        self.pool = nn.MaxPool2d(kernel_size=(3, 3), stride=1, padding=1)\n",
    "        self.fc = nn.Conv2d(in_channels * 4, in_channels, kernel_size=(1, 1))\n",
    "\n",
    "    def forward(self, x):\n",
    "        conv1 = self.conv1(x)\n",
    "        conv3 = self.conv3(x)\n",
    "        conv5 = self.conv5(x)\n",
    "        pool = self.pool(x)\n",
    "        pool = self.conv1(pool)\n",
    "        concat = torch.cat([conv1, conv3, conv5, pool], dim=1)\n",
    "        return self.fc(concat)\n",
    "\n",
    "class TimesBlock(nn.Module):\n",
    "    def __init__(self, in_channels, top_k=3):\n",
    "        super(TimesBlock, self).__init__()\n",
    "        self.top_k = top_k\n",
    "        self.inception = InceptionBlock(in_channels)\n",
    "    \n",
    "    def forward(self, x):\n",
    "        # 假设提取周期操作在这里（可以是FFT或其他方法）\n",
    "        periods = 10  # 假设周期为 10\n",
    "        # (32, 100, 7) -> (32, 7, 10, 10)\n",
    "        x_2d = x.reshape(x.shape[0], x.shape[2], x.size(1)//periods, periods)\n",
    "        x_2d = self.inception(x_2d)\n",
    "        x_2d = x_2d.reshape(x.shape[0], x.shape[2], x.size(1))\n",
    "        x_2d = x_2d.transpose(1, 2)\n",
    "        return x_2d\n",
    "\n",
    "class TimesNet(nn.Module):\n",
    "    def __init__(self, input_dim, num_blocks=3):\n",
    "        super(TimesNet, self).__init__()\n",
    "        self.blocks = nn.ModuleList([TimesBlock(input_dim) for _ in range(num_blocks)])\n",
    "\n",
    "    def forward(self, x):\n",
    "        for block in self.blocks:\n",
    "            x = block(x) + x  # Residual connection\n",
    "        return x\n",
    "\n",
    "# # 测试代码\n",
    "# batch_size = 32\n",
    "# seq_len = 100\n",
    "# features = 7\n",
    "# x = torch.randn(batch_size, seq_len, features)  # 输入形状 (32, 100, 7)\n",
    "# print(f\"输入形状: {x.shape}\")\n",
    "# # 假设模型中的 input_dim = features，model_dim = 7\n",
    "# model = TimesNet(input_dim=features, num_blocks=3)\n",
    "\n",
    "# # 通过网络传递数据\n",
    "# output = model(x)\n",
    "\n",
    "# # 打印输出形状\n",
    "# print(f\"输出形状: {output.shape}\")  # 期望输出 (32, 100, 7)\n"
   ]
  },
  {
   "cell_type": "code",
   "execution_count": 43,
   "metadata": {},
   "outputs": [],
   "source": [
    "# 定义模型\n",
    "class Transformer(nn.Module):\n",
    "    def __init__(self,n_head = N_HEAD, n_block = N_BLOCK, embed_size = EMBED_SIZE, hidden_size = HIDDEN_SIZE, dropout = DROUPOUT, seq_length = SEQ_LENGTH):\n",
    "        super().__init__()\n",
    "        # Timesnet层\n",
    "        self.timesnet = TimesNet(FEATURE_SIZE)\n",
    "\n",
    "        # 嵌入层\n",
    "        self.input_proj = nn.Linear(FEATURE_SIZE, embed_size)\n",
    "        self.output_proj = nn.Linear(embed_size, FEATURE_SIZE)\n",
    "\n",
    "        self.position_embed = nn.Parameter(torch.zeros(100, embed_size)) # 位置编码\n",
    "        nn.init.uniform_(self.position_embed, -0.02, 0.02)\n",
    "        \n",
    "        encoder_layer = nn.TransformerEncoderLayer(d_model=embed_size, nhead=n_head, dim_feedforward=hidden_size, dropout=dropout)\n",
    "        self.encoder = nn.TransformerEncoder(encoder_layer, num_layers=n_block)\n",
    "\n",
    "        decoder_layer = nn.TransformerDecoderLayer(d_model=embed_size, nhead=n_head, dim_feedforward=hidden_size, dropout=dropout)\n",
    "        self.decoder = nn.TransformerDecoder(decoder_layer, num_layers=n_block)\n",
    "\n",
    "    def forward(self, src, tgt):\n",
    "        # 使用TimesNet提取局部特征\n",
    "        src = self.timesnet(src)\n",
    "        \n",
    "        # src: (32, 100, 7)\n",
    "        # tgt: (32, 1, 7)\n",
    "        src = self.input_proj(src)\n",
    "        tgt = self.input_proj(tgt)\n",
    "\n",
    "        seq_len = tgt.size(1)\n",
    "        tgt_len = src.size(1)\n",
    "        src = src + self.position_embed[:seq_len, :].unsqueeze(0)  # [batch_size, seq_length, d_model]\n",
    "        tgt = tgt + self.position_embed[:tgt_len, :].unsqueeze(0)  # [batch_size, tgt_len, d_model]\n",
    "\n",
    "        # 将src和tgt转置 维度变为(seq_length, batch_size, d_model)\n",
    "        src = src.transpose(0, 1)\n",
    "        tgt = tgt.transpose(0, 1)\n",
    "\n",
    "        # Encoder\n",
    "        memory = self.encoder(src)\n",
    "\n",
    "        # Decoder\n",
    "        output = self.decoder(tgt, memory)\n",
    "\n",
    "        # 转置回来\n",
    "        output = output.transpose(0, 1)\n",
    "\n",
    "        # 输出层\n",
    "        output = self.output_proj(output)\n",
    "\n",
    "        return output"
   ]
  },
  {
   "cell_type": "code",
   "execution_count": 44,
   "metadata": {},
   "outputs": [
    {
     "name": "stderr",
     "output_type": "stream",
     "text": [
      "/home/chenranji/miniconda3/envs/dlclass/lib/python3.10/site-packages/torch/nn/modules/transformer.py:307: UserWarning: enable_nested_tensor is True, but self.use_nested_tensor is False because encoder_layer.self_attn.batch_first was not True(use batch_first for better inference performance)\n",
      "  warnings.warn(f\"enable_nested_tensor is True, but self.use_nested_tensor is False because {why_not_sparsity_fast_path}\")\n"
     ]
    }
   ],
   "source": [
    "model = Transformer()"
   ]
  },
  {
   "cell_type": "code",
   "execution_count": 45,
   "metadata": {},
   "outputs": [],
   "source": [
    "# 计算准确率\n",
    "def compute_accuracy(pred, target, threshold=0.1):\n",
    "    correct = (torch.abs(pred - target) < threshold).float()\n",
    "    accuracy = correct.mean().item() * 100\n",
    "    return accuracy"
   ]
  },
  {
   "cell_type": "code",
   "execution_count": 46,
   "metadata": {},
   "outputs": [],
   "source": [
    "# 绘制损失曲线\n",
    "def plot_loss_curve(losses, EPOCH):\n",
    "    plt.plot(range(1, EPOCH+1), losses, marker='o', color='b', label='Training Loss')\n",
    "    plt.title('Training Loss vs Epochs')\n",
    "    plt.xlabel('Epochs')\n",
    "    plt.ylabel('Loss')\n",
    "    plt.legend()\n",
    "    plt.grid(True)\n",
    "    plt.show()"
   ]
  },
  {
   "cell_type": "code",
   "execution_count": 47,
   "metadata": {},
   "outputs": [],
   "source": [
    "# 不同阈值下的准确率\n",
    "def plot_accuracy_vs_threshold(thresholds, accuracies):\n",
    "    plt.plot(thresholds, accuracies, marker='o', color='b', label='Accuracy vs Threshold')\n",
    "    plt.title('Accuracy vs Threshold')\n",
    "    plt.xlabel('Threshold')\n",
    "    plt.ylabel('Accuracy')\n",
    "    plt.legend()\n",
    "    plt.grid(True)\n",
    "    plt.show()"
   ]
  },
  {
   "cell_type": "code",
   "execution_count": 48,
   "metadata": {},
   "outputs": [
    {
     "name": "stderr",
     "output_type": "stream",
     "text": [
      "/home/chenranji/miniconda3/envs/dlclass/lib/python3.10/site-packages/torch/nn/modules/loss.py:538: UserWarning: Using a target size (torch.Size([32, 1, 7])) that is different to the input size (torch.Size([32, 100, 7])). This will likely lead to incorrect results due to broadcasting. Please ensure they have the same size.\n",
      "  return F.mse_loss(input, target, reduction=self.reduction)\n"
     ]
    },
    {
     "name": "stdout",
     "output_type": "stream",
     "text": [
      "Epoch 1/20, Loss: 0.0014065480791032314\n",
      "Epoch 2/20, Loss: 0.0005939589464105666\n",
      "Epoch 3/20, Loss: 0.00030434789368882775\n",
      "Epoch 4/20, Loss: 0.0002705330844037235\n",
      "Epoch 5/20, Loss: 0.00019589603471104056\n",
      "Epoch 6/20, Loss: 0.00015706293925177306\n",
      "Epoch 7/20, Loss: 0.00011220874876016751\n",
      "Epoch 8/20, Loss: 0.0001375036226818338\n",
      "Epoch 9/20, Loss: 8.572690421715379e-05\n",
      "Epoch 10/20, Loss: 8.347309631062672e-05\n",
      "Epoch 11/20, Loss: 5.244141357252374e-05\n",
      "Epoch 12/20, Loss: 0.00010402279440313578\n",
      "Epoch 13/20, Loss: 7.632663619006053e-05\n",
      "Epoch 14/20, Loss: 3.869457941618748e-05\n",
      "Epoch 15/20, Loss: 2.5927687602234073e-05\n",
      "Epoch 16/20, Loss: 2.6879399229073897e-05\n",
      "Epoch 17/20, Loss: 2.696611591090914e-05\n",
      "Epoch 18/20, Loss: 2.0029216102557257e-05\n",
      "Epoch 19/20, Loss: 2.64435639110161e-05\n",
      "Epoch 20/20, Loss: 1.714634163363371e-05\n"
     ]
    }
   ],
   "source": [
    "from sklearn.metrics import mean_squared_error\n",
    "\n",
    "# 定义损失函数和优化器\n",
    "criterion = nn.MSELoss()\n",
    "optimizer = optim.Adam(model.parameters(), lr=0.001)\n",
    "\n",
    "# 用于记录每个epoch的损失\n",
    "losses = []\n",
    "\n",
    "# 训练模型\n",
    "for epoch in range(EPOCH):\n",
    "    model.train()\n",
    "    for src, tgt in train_loader:\n",
    "        optimizer.zero_grad()\n",
    "\n",
    "        # 前向传播\n",
    "        output = model(src, tgt)\n",
    "\n",
    "        # 计算损失\n",
    "        loss = criterion(output, tgt)\n",
    "\n",
    "        # 反向传播以及优化\n",
    "        loss.backward()\n",
    "        optimizer.step()\n",
    "    losses.append(loss.item())\n",
    "    print(f'Epoch {epoch+1}/{EPOCH}, Loss: {loss.item()}')"
   ]
  },
  {
   "cell_type": "code",
   "execution_count": 49,
   "metadata": {},
   "outputs": [
    {
     "name": "stdout",
     "output_type": "stream",
     "text": [
      "Test Loss: 0.0000\n",
      "Threshold 0.001 - Accuracy: 41.26%\n",
      "Threshold 0.002 - Accuracy: 72.77%\n",
      "Threshold 0.003 - Accuracy: 88.75%\n",
      "Threshold 0.004 - Accuracy: 96.10%\n",
      "Threshold 0.005 - Accuracy: 98.52%\n",
      "Threshold 0.006 - Accuracy: 99.23%\n",
      "Threshold 0.007 - Accuracy: 99.59%\n",
      "Threshold 0.008 - Accuracy: 99.78%\n",
      "Threshold 0.009 - Accuracy: 99.85%\n",
      "Threshold 0.010 - Accuracy: 99.89%\n",
      "Threshold 0.011 - Accuracy: 99.93%\n",
      "Threshold 0.012 - Accuracy: 99.94%\n",
      "Threshold 0.013 - Accuracy: 99.96%\n",
      "Threshold 0.014 - Accuracy: 99.97%\n",
      "Threshold 0.015 - Accuracy: 99.98%\n",
      "Threshold 0.016 - Accuracy: 99.99%\n",
      "Threshold 0.017 - Accuracy: 99.99%\n",
      "Threshold 0.018 - Accuracy: 100.00%\n",
      "Threshold 0.019 - Accuracy: 100.00%\n",
      "Threshold 0.020 - Accuracy: 100.00%\n"
     ]
    },
    {
     "name": "stderr",
     "output_type": "stream",
     "text": [
      "/home/chenranji/miniconda3/envs/dlclass/lib/python3.10/site-packages/torch/nn/modules/loss.py:538: UserWarning: Using a target size (torch.Size([8, 1, 7])) that is different to the input size (torch.Size([8, 100, 7])). This will likely lead to incorrect results due to broadcasting. Please ensure they have the same size.\n",
      "  return F.mse_loss(input, target, reduction=self.reduction)\n"
     ]
    }
   ],
   "source": [
    "model.eval()\n",
    "total_loss = 0.0\n",
    "# 定义阈值范围\n",
    "thresholds = [i / 1000 for i in range(1, 21)]  # 从 0.001 到 0.02，步长为 0.001\n",
    "total_accuracy = {threshold: 0.0 for threshold in thresholds}  # 保存不同阈值下的准确率\n",
    "with torch.no_grad():\n",
    "    for src, tgt in test_loader:\n",
    "        tgt_input = tgt[:, :SEQ_LENGTH]  # Ensure tgt has the correct size for decoder input\n",
    "        pred = model(src, tgt_input)\n",
    "        \n",
    "        # Compute loss\n",
    "        loss = criterion(pred, tgt)\n",
    "        total_loss += loss.item()\n",
    "        \n",
    "        for threshold in thresholds:\n",
    "            accuracy = compute_accuracy(pred, tgt, threshold)\n",
    "            total_accuracy[threshold] += accuracy\n",
    "\n",
    "avg_loss = total_loss / len(test_loader)\n",
    "avg_accuracy = {threshold: total_accuracy[threshold] / len(test_loader) for threshold in thresholds}\n",
    "print(f\"Test Loss: {avg_loss:.4f}\")\n",
    "for threshold, accuracy in avg_accuracy.items():\n",
    "    print(f\"Threshold {threshold:.3f} - Accuracy: {accuracy:.2f}%\")"
   ]
  },
  {
   "cell_type": "code",
   "execution_count": 50,
   "metadata": {},
   "outputs": [
    {
     "data": {
      "image/png": "[encoded data removed]",
      "text/plain": [
       "<Figure size 640x480 with 1 Axes>"
      ]
     },
     "metadata": {},
     "output_type": "display_data"
    }
   ],
   "source": [
    "# 可视化迭代损失\n",
    "plot_loss_curve(losses, EPOCH)"
   ]
  },
  {
   "cell_type": "code",
   "execution_count": 51,
   "metadata": {},
   "outputs": [
    {
     "data": {
      "image/png": "[encoded data removed]",
      "text/plain": [
       "<Figure size 640x480 with 1 Axes>"
      ]
     },
     "metadata": {},
     "output_type": "display_data"
    }
   ],
   "source": [
    "# 可视化不同阈值下的准确率\n",
    "plot_accuracy_vs_threshold(thresholds, list(avg_accuracy.values()))"
   ]
  }
 ],
 "metadata": {
  "kernelspec": {
   "display_name": "dlclass",
   "language": "python",
   "name": "python3"
  },
  "language_info": {
   "codemirror_mode": {
    "name": "ipython",
    "version": 3
   },
   "file_extension": ".py",
   "mimetype": "text/x-python",
   "name": "python",
   "nbconvert_exporter": "python",
   "pygments_lexer": "ipython3",
   "version": "3.10.13"
  }
 },
 "nbformat": 4,
 "nbformat_minor": 2
}
